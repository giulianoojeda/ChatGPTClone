{
  "nbformat": 4,
  "nbformat_minor": 0,
  "metadata": {
    "colab": {
      "provenance": [],
      "authorship_tag": "ABX9TyPq3SOnsUaOv8Wq9Y2tA0ye",
      "include_colab_link": true
    },
    "kernelspec": {
      "name": "python3",
      "display_name": "Python 3"
    },
    "language_info": {
      "name": "python"
    }
  },
  "cells": [
    {
      "cell_type": "markdown",
      "metadata": {
        "id": "view-in-github",
        "colab_type": "text"
      },
      "source": [
        "<a href=\"https://colab.research.google.com/github/giulianoojeda/ChatGPTClone/blob/main/Sprint_1_ML_Developer_Career_Python_Warm_up.ipynb\" target=\"_parent\"><img src=\"https://colab.research.google.com/assets/colab-badge.svg\" alt=\"Open In Colab\"/></a>"
      ]
    },
    {
      "cell_type": "markdown",
      "source": [
        "#Solve with Python\n",
        "\n",
        "Using pure Python code and standard libraries only, try to code algorithms that can analyze the provided dataset and answer the following questions:"
      ],
      "metadata": {
        "id": "ezRvgEKW3Cx2"
      }
    },
    {
      "cell_type": "code",
      "source": [
        "!gdown 1UOF-7R5MHXTQcCPp7rPMZTFZZSCmKzko"
      ],
      "metadata": {
        "colab": {
          "base_uri": "https://localhost:8080/"
        },
        "id": "ub_bOKPU4M91",
        "outputId": "80b7dc4e-6073-434a-df00-15570782a754"
      },
      "execution_count": 4,
      "outputs": [
        {
          "output_type": "stream",
          "name": "stdout",
          "text": [
            "Downloading...\n",
            "From: https://drive.google.com/uc?id=1UOF-7R5MHXTQcCPp7rPMZTFZZSCmKzko\n",
            "To: /content/registered-names-1922-2015.csv\n",
            "100% 221M/221M [00:04<00:00, 54.1MB/s]\n"
          ]
        }
      ]
    },
    {
      "cell_type": "markdown",
      "source": [
        "Let's take a peak of the **data**"
      ],
      "metadata": {
        "id": "-SnPusJH43yv"
      }
    },
    {
      "cell_type": "code",
      "source": [
        "import csv\n",
        "from collections import defaultdict\n",
        "\n",
        "\n",
        "def print_head(filename, lines=10):\n",
        "  with open(filename, 'r') as f:\n",
        "    csv_reader = csv.reader(f)\n",
        "    for i, row in enumerate(csv_reader):\n",
        "      print(row)\n",
        "      if i == lines - 1:\n",
        "        break\n",
        "\n",
        "print_head('registered-names-1922-2015.csv')"
      ],
      "metadata": {
        "colab": {
          "base_uri": "https://localhost:8080/"
        },
        "id": "HtPP83L-47tN",
        "outputId": "8e041007-f996-4071-9daf-c2fc138c093a"
      },
      "execution_count": 5,
      "outputs": [
        {
          "output_type": "stream",
          "name": "stdout",
          "text": [
            "['name', 'count', 'year']\n",
            "['Maria', '314', '1922']\n",
            "['Rosa', '203', '1922']\n",
            "['Jose', '163', '1922']\n",
            "['Maria Luisa', '127', '1922']\n",
            "['Carmen', '117', '1922']\n",
            "['Ana', '113', '1922']\n",
            "['Maria Elena', '112', '1922']\n",
            "['Juana', '111', '1922']\n",
            "['Maria Esther', '109', '1922']\n"
          ]
        }
      ]
    },
    {
      "cell_type": "markdown",
      "source": [
        "How many people were registered each year?"
      ],
      "metadata": {
        "id": "ieMJhWO43MrN"
      }
    },
    {
      "cell_type": "code",
      "source": [
        "def people_registered(filename):\n",
        "  count = defaultdict(int)\n",
        "  with open(filename, 'r') as f:\n",
        "    csv_reader = csv.DictReader(f)\n",
        "    for row in csv_reader:\n",
        "      count[row['year']] += int(row['count'])\n",
        "  return count\n",
        "  \n",
        "print(people_registered('registered-names-1922-2015.csv'))"
      ],
      "metadata": {
        "colab": {
          "base_uri": "https://localhost:8080/"
        },
        "id": "4BT53gaW3NCu",
        "outputId": "72104e51-a053-4481-90dc-c7c3a8a57723"
      },
      "execution_count": 20,
      "outputs": [
        {
          "output_type": "stream",
          "name": "stdout",
          "text": [
            "defaultdict(<class 'int'>, {'1922': 23667, '1923': 30289, '1924': 39075, '1925': 48328, '1926': 58350, '1927': 71182, '1928': 85659, '1929': 98792, '1930': 115965, '1931': 126450, '1932': 142855, '1933': 150008, '1934': 162662, '1935': 183562, '1936': 195782, '1937': 211501, '1938': 231419, '1939': 254843, '1940': 283184, '1941': 295764, '1942': 295416, '1943': 344322, '1944': 372214, '1945': 404769, '1946': 416282, '1947': 438577, '1948': 464794, '1949': 476270, '1950': 505873, '1951': 499066, '1952': 503985, '1953': 517644, '1954': 527342, '1955': 540534, '1956': 555714, '1957': 559624, '1958': 563382, '1959': 571394, '1960': 583053, '1961': 596696, '1962': 622130, '1963': 620341, '1964': 626002, '1965': 632594, '1966': 627229, '1967': 639428, '1968': 651192, '1969': 682153, '1970': 716628, '1971': 758152, '1972': 774379, '1973': 789091, '1974': 829883, '1975': 886937, '1976': 895615, '1977': 955405, '1978': 979938, '1979': 1019994, '1980': 961606, '1981': 1020591, '1982': 1036620, '1983': 993079, '1984': 1010882, '1985': 1056682, '1986': 1101961, '1987': 1097908, '1988': 1118740, '1989': 1116945, '1990': 1167924, '1991': 1245813, '1992': 1257479, '1993': 1351210, '1994': 1327782, '1995': 1228279, '1996': 1132763, '1997': 938137, '1998': 951784, '1999': 867112, '2000': 843525, '2001': 791107, '2002': 747118, '2003': 806142, '2004': 831336, '2005': 784934, '2006': 750246, '2007': 707364, '2008': 696160, '2009': 583182, '2010': 546042, '2011': 450370, '2012': 950740, '2013': 900028, '2014': 881267, '2015': 793166})\n"
          ]
        }
      ]
    },
    {
      "cell_type": "markdown",
      "source": [
        "What is the largest name in the dataset?"
      ],
      "metadata": {
        "id": "EPIiFkL84uw4"
      }
    },
    {
      "cell_type": "code",
      "source": [
        "def largest_name(filename):\n",
        "  largest = ''\n",
        "  with open(filename, 'r') as f:\n",
        "    csv_reader = csv.DictReader(f)\n",
        "    for row in csv_reader:\n",
        "      name = row['name'].lower().replace(\" \", \"\")\n",
        "      if len(name) > len(largest):\n",
        "        largest = name\n",
        "  return largest\n",
        "\n",
        "print(largest_name('registered-names-1922-2015.csv'))"
      ],
      "metadata": {
        "colab": {
          "base_uri": "https://localhost:8080/",
          "height": 36
        },
        "id": "XqSfNKzx4vo8",
        "outputId": "9c768f6a-7fb8-43ec-952b-e17f2a067488"
      },
      "execution_count": 19,
      "outputs": [
        {
          "output_type": "execute_result",
          "data": {
            "text/plain": [
              "'robertocarlos(antesdecumplimentarhablarconaugustoborjacdr-jujuy0388-4310036)'"
            ],
            "application/vnd.google.colaboratory.intrinsic+json": {
              "type": "string"
            }
          },
          "metadata": {},
          "execution_count": 19
        }
      ]
    },
    {
      "cell_type": "markdown",
      "source": [
        "What is the shortest name in the dataset?"
      ],
      "metadata": {
        "id": "pPs3JVF34yhd"
      }
    },
    {
      "cell_type": "code",
      "source": [
        "def shortest_name(filename):\n",
        "  shortest_name = None\n",
        "  with open(filename, 'r') as f:\n",
        "    csv_reader = csv.DictReader(f)\n",
        "    for row in csv_reader:\n",
        "      name = row['name'].lower().replace(\" \", \"\")\n",
        "      if (shortest_name is None or len(name) < len(shortest_name)) and (name != ''):\n",
        "        shortest_name = name\n",
        "  return shortest_name\n",
        "\n",
        "print(shortest_name('registered-names-1922-2015.csv'))"
      ],
      "metadata": {
        "colab": {
          "base_uri": "https://localhost:8080/"
        },
        "id": "B-CrbY3V4y0j",
        "outputId": "ac410e1e-88ee-42f5-c227-1f1d78fb9ad5"
      },
      "execution_count": 22,
      "outputs": [
        {
          "output_type": "stream",
          "name": "stdout",
          "text": [
            "p\n"
          ]
        }
      ]
    },
    {
      "cell_type": "markdown",
      "source": [
        "Is there a name in a database that is a Palindrome? See definition."
      ],
      "metadata": {
        "id": "HYbkTaoS400b"
      }
    },
    {
      "cell_type": "code",
      "source": [
        "def palindrome_names(filename):\n",
        "  palindromes = set()\n",
        "  with open(filename, 'r') as f:\n",
        "    csv_reader = csv.DictReader(f)\n",
        "    for row in csv_reader:\n",
        "      name = row['name'].lower().replace(\" \", \"\")\n",
        "      if name != '' and name == name[::-1]:\n",
        "        palindromes.add(name)\n",
        "  return palindromes\n",
        "\n",
        "print(palindrome_names('registered-names-1922-2015.csv'))"
      ],
      "metadata": {
        "colab": {
          "base_uri": "https://localhost:8080/"
        },
        "id": "68rjddWx41UW",
        "outputId": "4122e519-bf50-4b7d-b968-7af0378afadc"
      },
      "execution_count": 24,
      "outputs": [
        {
          "output_type": "stream",
          "name": "stdout",
          "text": [
            "{'ipi', 'sabas', 'p', 'kok', 'neliamailen', 'nelyaylen', 'ama', 'ikki', 'yvy', 'anna', 'xx', 'oro', 'aviva', 'rrrrr', 'lexel', 'nennen', 'mianaim', 'talat', 'iarasarai', 'luzazul', 'aijia', 'ara', 'ddd', ',', 'yanay', 'nauan', 'ibi', 'nalan', 'ireneneri', 'aimemia', 'awa', 'ana', 'maram', 'neven', 'zulemaameluz', 'ebe', 'savas', 'oddo', 'ramonomar', 'reinier', 'naillian', 'siriairis', 'iaraarai', 'odo', 'ii', 'newen', 'nurun', 'xxxx', 'pylyp', '11111111111', 'afa', 'madam', 'nizin', 'leayael', 'naimian', 'leiramariel', 'aba', 'oto', 'aidia', 'aimémia', 'ili', 'savvas', 'enne', 'edde', 'nisin', 'leoyoel', 'ianai', 'mabam', 'noelleon', 'alila', 'hannah', 'otto', 'anaililiana', 'leojoel', 'nivin', 'nimin', 'aimaramia', 'opo', 'itati', 'ada', 'anasusana', 'leonnoel', 'neuquen', 'nairian', 'aia', 'leajael', 'aziza', 'awiwa', 'renewener', 'nayan', 'amma', 'ssss', 'tebet', 'samas', 'moom', 'abba', 'liannail', 'rihananahir', 'silis', 'xxx', 'maiam', 'yamay', 'alla', 'ede', 'aileddelia', 'natan', 'nellen', 'milim', 'elle', 'aidanadia', 'ene', 'najan', 'aletseestela', 'nadan', 'anauana', 'yeney', 'neyen', 'layal', 'tafat', 'anerbrena', 'yenney', 'lawal', 'aaaa', 'airamaria', 'aya', 'ivi', 'neuen', 'maiadaiam', 'neien', 'anuna', 'nitin', 'ece', 'anadana', 'nan', 'aixia', 'e', 'lewel', 'naian', 'isi', 'cauac', 'naijian', 'daad', 'anina', 'emme', 'neliaailen', 'eve', 'ala', 'iafai', 'lil', 'laial', 'bob', 'adda', 'non', 'nannan', 'rever', 'onno', 'asa', '----', 'leaiael', 'afifa', 'isasi', 'idi', 'nissin', 'ava', 'll'}\n"
          ]
        }
      ]
    },
    {
      "cell_type": "markdown",
      "source": [
        "What is the name with the largest number of people registered?\n"
      ],
      "metadata": {
        "id": "DwnF-F8F424e"
      }
    },
    {
      "cell_type": "code",
      "source": [
        "def largest_number(filename):\n",
        "  largest_count = 0\n",
        "  name = ''\n",
        "  with open(filename, 'r') as f:\n",
        "    csv_reader = csv.DictReader(f)\n",
        "    for row in csv_reader:\n",
        "      count = int(row['count'])\n",
        "      if largest_count < count:\n",
        "        largest_count = count\n",
        "        name = row['name']\n",
        "  return {'name': name, 'count': largest_count}\n",
        "\n",
        "print(largest_number('registered-names-1922-2015.csv'))"
      ],
      "metadata": {
        "colab": {
          "base_uri": "https://localhost:8080/"
        },
        "id": "G0f48PXB43Hf",
        "outputId": "aaee5aae-f2f1-406a-bc84-b31680b95045"
      },
      "execution_count": 28,
      "outputs": [
        {
          "output_type": "stream",
          "name": "stdout",
          "text": [
            "{'name': 'Leonel Hernan', 'count': 7939}\n"
          ]
        }
      ]
    },
    {
      "cell_type": "code",
      "source": [],
      "metadata": {
        "id": "fha3ts37RAum"
      },
      "execution_count": null,
      "outputs": []
    }
  ]
}